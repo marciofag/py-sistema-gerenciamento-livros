{
  "nbformat": 4,
  "nbformat_minor": 0,
  "metadata": {
    "colab": {
      "provenance": [],
      "authorship_tag": "ABX9TyNYSVj/uwsNL0rzNNwOnmud",
      "include_colab_link": true
    },
    "kernelspec": {
      "name": "python3",
      "display_name": "Python 3"
    },
    "language_info": {
      "name": "python"
    }
  },
  "cells": [
    {
      "cell_type": "markdown",
      "metadata": {
        "id": "view-in-github",
        "colab_type": "text"
      },
      "source": [
        "<a href=\"https://colab.research.google.com/github/marciofag/py-sistema-gerenciamento-livros/blob/main/py_sistema_gerenciamento_livros.ipynb\" target=\"_parent\"><img src=\"https://colab.research.google.com/assets/colab-badge.svg\" alt=\"Open In Colab\"/></a>"
      ]
    },
    {
      "cell_type": "code",
      "execution_count": 4,
      "metadata": {
        "colab": {
          "base_uri": "https://localhost:8080/",
          "height": 1000
        },
        "id": "QAlruIr0GtUX",
        "outputId": "3f00d545-e5f8-4be3-9f7d-4524de2d46f5"
      },
      "outputs": [
        {
          "name": "stdout",
          "output_type": "stream",
          "text": [
            "\n",
            "1. Cadastrar livro\n",
            "2. Listar livros\n",
            "3. Buscar livro por título\n",
            "4. Gerar gráfico por gênero\n",
            "5. Sair\n",
            "Escolha uma opção: 1\n",
            "Título do livro: Mindset\n",
            "Autor do livro: Carol Dweck \n",
            "Gênero do livro: Neurociência\n",
            "Quantidade disponível: 5\n",
            "Livro cadastrado com sucesso!\n",
            "\n",
            "\n",
            "1. Cadastrar livro\n",
            "2. Listar livros\n",
            "3. Buscar livro por título\n",
            "4. Gerar gráfico por gênero\n",
            "5. Sair\n",
            "Escolha uma opção: 1\n",
            "Título do livro: Atitude Mental Positiva\n",
            "Autor do livro: Napoleon Hill\n",
            "Gênero do livro: Motivacional\n",
            "Quantidade disponível: 3\n",
            "Livro cadastrado com sucesso!\n",
            "\n",
            "\n",
            "1. Cadastrar livro\n",
            "2. Listar livros\n",
            "3. Buscar livro por título\n",
            "4. Gerar gráfico por gênero\n",
            "5. Sair\n",
            "Escolha uma opção: 2\n",
            "\n",
            "--- Lista de Livros ---\n",
            "Título: Mindset, Autor: Carol Dweck , Gênero: Neurociência, Quantidade: 5\n",
            "Título: Atitude Mental Positiva, Autor: Napoleon Hill, Gênero: Motivacional, Quantidade: 3\n",
            "\n",
            "\n",
            "1. Cadastrar livro\n",
            "2. Listar livros\n",
            "3. Buscar livro por título\n",
            "4. Gerar gráfico por gênero\n",
            "5. Sair\n",
            "Escolha uma opção: 4\n"
          ]
        },
        {
          "output_type": "display_data",
          "data": {
            "text/plain": [
              "<Figure size 640x480 with 1 Axes>"
            ],
            "image/png": "[encoded data removed]"
          },
          "metadata": {}
        },
        {
          "output_type": "stream",
          "name": "stdout",
          "text": [
            "\n",
            "1. Cadastrar livro\n",
            "2. Listar livros\n",
            "3. Buscar livro por título\n",
            "4. Gerar gráfico por gênero\n",
            "5. Sair\n",
            "Escolha uma opção: 5\n",
            "Saindo do sistema...\n"
          ]
        }
      ],
      "source": [
        "# Importar biblioteca para gráfico\n",
        "import matplotlib.pyplot as plt\n",
        "\n",
        "# Passo 1: Definir a classe Livro\n",
        "class Livro:\n",
        "    def __init__(self, titulo, autor, genero, quantidade):\n",
        "        self.titulo = titulo\n",
        "        self.autor = autor\n",
        "        self.genero = genero\n",
        "        self.quantidade = quantidade\n",
        "\n",
        "# Passo 2: Inicializar a lista de livros\n",
        "livros = []\n",
        "\n",
        "# Passo 3: Funções de gerenciamento\n",
        "def cadastrar_livro():\n",
        "    titulo = input(\"Título do livro: \")\n",
        "    autor = input(\"Autor do livro: \")\n",
        "    genero = input(\"Gênero do livro: \")\n",
        "    quantidade = int(input(\"Quantidade disponível: \"))\n",
        "    novo_livro = Livro(titulo, autor, genero, quantidade)\n",
        "    livros.append(novo_livro)\n",
        "    print(\"Livro cadastrado com sucesso!\\n\")\n",
        "\n",
        "def listar_livros():\n",
        "    print(\"\\n--- Lista de Livros ---\")\n",
        "    for livro in livros:\n",
        "        print(f\"Título: {livro.titulo}, Autor: {livro.autor}, Gênero: {livro.genero}, Quantidade: {livro.quantidade}\")\n",
        "    print()\n",
        "\n",
        "def buscar_livro_por_titulo():\n",
        "    titulo_busca = input(\"Digite o título do livro que deseja buscar: \").lower()\n",
        "    encontrado = False\n",
        "    for livro in livros:\n",
        "        if livro.titulo.lower() == titulo_busca:\n",
        "            print(f\"\\nLivro encontrado: Título: {livro.titulo}, Autor: {livro.autor}, Gênero: {livro.genero}, Quantidade: {livro.quantidade}\")\n",
        "            encontrado = True\n",
        "            break\n",
        "    if not encontrado:\n",
        "        print(\"Livro não encontrado.\\n\")\n",
        "\n",
        "# Passo 4: Gerar gráfico de livros por gênero\n",
        "def gerar_grafico_por_genero():\n",
        "    generos = {}\n",
        "    for livro in livros:\n",
        "        if livro.genero in generos:\n",
        "            generos[livro.genero] += livro.quantidade\n",
        "        else:\n",
        "            generos[livro.genero] = livro.quantidade\n",
        "\n",
        "    plt.bar(generos.keys(), generos.values(), color='skyblue')\n",
        "    plt.title(\"Quantidade de Livros por Gênero\")\n",
        "    plt.xlabel(\"Gênero\")\n",
        "    plt.ylabel(\"Quantidade\")\n",
        "    plt.xticks(rotation=45)\n",
        "    plt.tight_layout()\n",
        "    plt.show()\n",
        "\n",
        "# Passo 5: Testar o sistema\n",
        "def menu():\n",
        "    while True:\n",
        "        print(\"\\n1. Cadastrar livro\")\n",
        "        print(\"2. Listar livros\")\n",
        "        print(\"3. Buscar livro por título\")\n",
        "        print(\"4. Gerar gráfico por gênero\")\n",
        "        print(\"5. Sair\")\n",
        "        opcao = input(\"Escolha uma opção: \")\n",
        "\n",
        "        if opcao == '1':\n",
        "            cadastrar_livro()\n",
        "        elif opcao == '2':\n",
        "            listar_livros()\n",
        "        elif opcao == '3':\n",
        "            buscar_livro_por_titulo()\n",
        "        elif opcao == '4':\n",
        "            gerar_grafico_por_genero()\n",
        "        elif opcao == '5':\n",
        "            print(\"Saindo do sistema...\")\n",
        "            break\n",
        "        else:\n",
        "            print(\"Opção inválida!\")\n",
        "\n",
        "# Iniciar o menu do sistema\n",
        "menu()\n"
      ]
    }
  ]
}